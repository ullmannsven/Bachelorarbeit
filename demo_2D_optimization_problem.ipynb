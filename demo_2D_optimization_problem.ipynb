{
 "cells": [
  {
   "cell_type": "markdown",
   "metadata": {},
   "source": [
    "# Solving optimization problems with the kernel Trust-Region algorithm \n",
    "\n",
    "In this demo we want to demonstrate how to use the kernel TR algorithm to solve a 2D optimization problem. \n",
    "The problem we want to adress is taken from the pyMOR tutorial: Model order reduction for PDE-constrained optimization problems. We first import some standard python libraries. \n"
   ]
  },
  {
   "cell_type": "code",
   "execution_count": 1,
   "metadata": {},
   "outputs": [],
   "source": [
    "from pymor.basic import *\n",
    "import numpy as np\n",
    "import math as m\n",
    "import time "
   ]
  },
  {
   "cell_type": "markdown",
   "metadata": {},
   "source": [
    "We define the optimization problem as in Chapter 7.1 of the thesis. \n"
   ]
  },
  {
   "cell_type": "code",
   "execution_count": 2,
   "metadata": {},
   "outputs": [
    {
     "name": "stderr",
     "output_type": "stream",
     "text": [
      "00:03 DiffusionOperatorP1: Calculate gradients of shape functions transformed by reference map ...\n",
      "00:03 DiffusionOperatorP1: Calculate all local scalar products between gradients ...\n",
      "00:03 DiffusionOperatorP1: Determine global dofs ...\n",
      "00:03 DiffusionOperatorP1: Boundary treatment ...\n",
      "00:04 DiffusionOperatorP1: Assemble system matrix ...\n",
      "00:04 DiffusionOperatorP1: Calculate gradients of shape functions transformed by reference map ...\n",
      "00:04 DiffusionOperatorP1: Calculate all local scalar products between gradients ...\n",
      "00:04 DiffusionOperatorP1: Determine global dofs ...\n",
      "00:04 DiffusionOperatorP1: Boundary treatment ...\n",
      "00:04 DiffusionOperatorP1: Assemble system matrix ...\n",
      "00:04 L2ProductP1: Integrate the products of the shape functions on each element\n",
      "00:04 L2ProductP1: Determine global dofs ...\n",
      "00:04 L2ProductP1: Boundary treatment ...\n",
      "00:04 L2ProductP1: Assemble system matrix ...\n",
      "00:05 DiffusionOperatorP1: Calculate gradients of shape functions transformed by reference map ...\n",
      "00:05 DiffusionOperatorP1: Calculate all local scalar products between gradients ...\n",
      "00:05 DiffusionOperatorP1: Determine global dofs ...\n",
      "00:05 DiffusionOperatorP1: Boundary treatment ...\n",
      "00:05 DiffusionOperatorP1: Assemble system matrix ...\n",
      "00:05 L2ProductP1: Integrate the products of the shape functions on each element\n",
      "00:05 L2ProductP1: Determine global dofs ...\n",
      "00:05 L2ProductP1: Boundary treatment ...\n",
      "00:05 L2ProductP1: Assemble system matrix ...\n",
      "00:05 DiffusionOperatorP1: Calculate gradients of shape functions transformed by reference map ...\n",
      "00:06 DiffusionOperatorP1: Calculate all local scalar products between gradients ...\n",
      "00:06 DiffusionOperatorP1: Determine global dofs ...\n",
      "00:06 DiffusionOperatorP1: Boundary treatment ...\n",
      "00:06 DiffusionOperatorP1: Assemble system matrix ...\n",
      "00:06 DiffusionOperatorP1: Calculate gradients of shape functions transformed by reference map ...\n",
      "00:06 DiffusionOperatorP1: Calculate all local scalar products between gradients ...\n",
      "00:06 DiffusionOperatorP1: Determine global dofs ...\n",
      "00:06 DiffusionOperatorP1: Boundary treatment ...\n",
      "00:06 DiffusionOperatorP1: Assemble system matrix ...\n",
      "00:06 DiffusionOperatorP1: Calculate gradients of shape functions transformed by reference map ...\n",
      "00:06 DiffusionOperatorP1: Calculate all local scalar products between gradients ...\n",
      "00:07 DiffusionOperatorP1: Determine global dofs ...\n",
      "00:07 DiffusionOperatorP1: Boundary treatment ...\n",
      "00:07 DiffusionOperatorP1: Assemble system matrix ...\n",
      "00:07 DiffusionOperatorP1: Calculate gradients of shape functions transformed by reference map ...\n",
      "00:07 DiffusionOperatorP1: Calculate all local scalar products between gradients ...\n",
      "00:07 DiffusionOperatorP1: Determine global dofs ...\n",
      "00:07 DiffusionOperatorP1: Boundary treatment ...\n",
      "00:07 DiffusionOperatorP1: Assemble system matrix ...\n"
     ]
    }
   ],
   "source": [
    "from problems import linear_problem\n",
    "\n",
    "problem = linear_problem()\n",
    "mu_bar = problem.parameters.parse([np.pi/2,np.pi/2])\n",
    "fom, data = discretize_stationary_cg(problem, diameter=1/100, mu_energy_product=mu_bar)\n",
    "parameter_space = fom.parameters.space(0, np.pi)"
   ]
  },
  {
   "cell_type": "markdown",
   "metadata": {},
   "source": [
    "Before we start solving the optimization problem, we first visualize the diffusion for a fixed parameter and the objective function. These are Figures 3 and 4 in the thesis. "
   ]
  },
  {
   "cell_type": "code",
   "execution_count": null,
   "metadata": {},
   "outputs": [],
   "source": [
    "from pymor.discretizers.builtin.cg import InterpolationOperator\n",
    "\n",
    "mu_init = [0.25, 0.5]\n",
    "mu_init = problem.parameters.parse(mu_init)\n",
    "\n",
    "diff = InterpolationOperator(data['grid'], problem.diffusion).as_vector(mu_init)\n",
    "fom.visualize(diff)"
   ]
  },
  {
   "cell_type": "code",
   "execution_count": null,
   "metadata": {},
   "outputs": [],
   "source": [
    "from contour_plot_objective_function import plot_3d_surface, fom_objective_functional\n",
    "\n",
    "ranges = parameter_space.ranges['diffusion']\n",
    "XX = np.linspace(ranges[0] + 0.05, ranges[1], 50)\n",
    "plot_3d_surface(fom, fom_objective_functional, XX, XX)"
   ]
  },
  {
   "cell_type": "markdown",
   "metadata": {},
   "source": [
    "In the next step, we want to solve this optimization problem with a state-of-the art optimization algorithm, namely with the BFGS algorithm"
   ]
  },
  {
   "cell_type": "code",
   "execution_count": null,
   "metadata": {},
   "outputs": [],
   "source": [
    "from two_dim_optimization_problem import fom_objective_functional, fom_gradient_of_functional, optimize_BFGS, report\n",
    "\n",
    "amount_of_iters = 10\n",
    "ranges = parameter_space.ranges['diffusion']\n",
    "data = optimize_BFGS(fom_objective_functional, ranges, amount_of_iters, fom, fom_gradient_of_functional)\n",
    "report(data, amount_of_iters)\n",
    "np.save('reference_mu.npy', data['mu'])"
   ]
  },
  {
   "cell_type": "code",
   "execution_count": null,
   "metadata": {},
   "outputs": [],
   "source": [
    "mu_ref_list = np.load('reference_mu.npy', allow_pickle=True)\n",
    "print(mu_ref_list)"
   ]
  },
  {
   "cell_type": "markdown",
   "metadata": {},
   "source": [
    "We will now utilize the proposed kernel TR algorithm to solve the optimization problem again. Before we compare the results with the BFGS algorithm from above, we compare the TRs of the standard and the advanved formulation. The outcome is Figure 5 in the thesis."
   ]
  },
  {
   "cell_type": "code",
   "execution_count": null,
   "metadata": {},
   "outputs": [],
   "source": [
    "from trust_region_kernel_approx import TR_Kernel, compute_RKHS_norm, draw_TR_standard\n",
    "from vkoga.kernels import Gaussian, IMQ, Wendland, Matern\n",
    "\n",
    "ep=1\n",
    "global_counter = 0\n",
    "mu_k = [0.25, 0.5]\n",
    "mu_k = problem.parameters.parse(mu_k)\n",
    "\n",
    "kernel = IMQ(ep=ep)\n",
    "RKHS_norm, _ , _ = compute_RKHS_norm(kernel, fom, parameter_space)\n",
    "\n",
    "TR_parameters={'radius': 0.5, 'sub_tolerance': 1e-5, 'max_iterations': 35, 'max_iterations_subproblem': 100,'starting_parameter': mu_k, \n",
    "               'max_iterations_armijo': 40, 'initial_step_armijo': 0.5, 'armijo_alpha': 1e-4, 'FOC_tolerance': 1e-8, 'J_tolerance': 1e-10,\n",
    "               'beta_1': 0.5, 'beta_2': 0.95, 'rho': 0.9, 'eps': 0.03, 'max_amount_interpolation_points': 8, 'advanced': False, 'draw_TR': True}\n",
    "\n",
    "mu_list, _ , list_delta = TR_Kernel(fom, kernel, parameter_space, global_counter, RKHS_norm, TR_parameters)\n",
    "draw_TR_standard(list_delta, mu_list)\n",
    "\n",
    "\n",
    "\n"
   ]
  },
  {
   "cell_type": "code",
   "execution_count": null,
   "metadata": {},
   "outputs": [],
   "source": [
    "from trust_region_kernel_approx import draw_TR_advanced\n",
    "global_counter = 0\n",
    "\n",
    "TR_parameters={'radius': 2, 'sub_tolerance': 1e-5, 'max_iterations': 10, 'max_iterations_subproblem': 100,'starting_parameter': mu_k, \n",
    "               'max_iterations_armijo': 40, 'initial_step_armijo': 0.5, 'armijo_alpha': 1e-4, 'FOC_tolerance': 1e-8, 'J_tolerance': 1e-10,\n",
    "               'beta_1': 0.5, 'beta_2': 0.95, 'rho': 0.9, 'eps': 0.03, 'max_amount_interpolation_points': 8, 'width_gauss': ep, 'advanced': True, 'draw_TR': True}\n",
    "\n",
    "mu_list,TR_plot_matrix , _ = TR_Kernel(fom, kernel, parameter_space, global_counter, RKHS_norm, TR_parameters)\n",
    "draw_TR_advanced(TR_plot_matrix, mu_list)"
   ]
  },
  {
   "cell_type": "code",
   "execution_count": null,
   "metadata": {},
   "outputs": [],
   "source": [
    "from trust_region_kernel_approx import optimize_all, report_kernel_TR, TR_Kernel\n",
    "\n",
    "amount_of_iters = 10\n",
    "#gamma_list = [m.sqrt(0.8), m.sqrt(0.9), m.sqrt(1), m.sqrt(1.1), m.sqrt(1.2)]\n",
    "gamma_list = [1]\n",
    "kernel_name = 'gauss'\n",
    "\n",
    "TR_parameters={'radius': 0.5, 'sub_tolerance': 1e-5, 'max_iterations': 35, 'max_iterations_subproblem': 100, 'max_iterations_armijo': 40, \n",
    "            'initial_step_armijo': 0.5, 'armijo_alpha': 1e-4, 'FOC_tolerance': 1e-8, 'J_tolerance': 1e-10,\n",
    "            'beta_1': 0.5, 'beta_2': 0.95, 'rho': 0.9, 'max_amount_interpolation_points': 8,  'advanced': False, 'draw_TR': False}\n",
    "\n",
    "data = optimize_all(fom, parameter_space, TR_Kernel, kernel_name, gamma_list, TR_parameters, amount_of_iters)\n",
    "\n",
    "report_kernel_TR(data, gamma_list, amount_of_iters)"
   ]
  },
  {
   "cell_type": "code",
   "execution_count": null,
   "metadata": {},
   "outputs": [],
   "source": [
    "report_kernel_TR(data, gamma_list, amount_of_iters)"
   ]
  },
  {
   "cell_type": "code",
   "execution_count": null,
   "metadata": {},
   "outputs": [],
   "source": [
    "mu_ref_list = np.load('reference_mu.npy', allow_pickle=True)\n",
    "print(mu_ref_list)"
   ]
  },
  {
   "cell_type": "code",
   "execution_count": null,
   "metadata": {},
   "outputs": [],
   "source": [
    "print(data)"
   ]
  }
 ],
 "metadata": {
  "kernelspec": {
   "display_name": "Python 3",
   "language": "python",
   "name": "python3"
  },
  "language_info": {
   "codemirror_mode": {
    "name": "ipython",
    "version": 3
   },
   "file_extension": ".py",
   "mimetype": "text/x-python",
   "name": "python",
   "nbconvert_exporter": "python",
   "pygments_lexer": "ipython3",
   "version": "3.11.1"
  },
  "orig_nbformat": 4
 },
 "nbformat": 4,
 "nbformat_minor": 2
}
