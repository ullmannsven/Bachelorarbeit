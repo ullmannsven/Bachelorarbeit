{
 "cells": [
  {
   "cell_type": "markdown",
   "metadata": {},
   "source": [
    "To obtain results using ChemShell, we need access to the TheoChem server. \n",
    "\n",
    "If this folder structure is copied to the server, the optimization can be start with "
   ]
  },
  {
   "cell_type": "code",
   "execution_count": null,
   "metadata": {},
   "outputs": [],
   "source": [
    "from geometry_optimization.chemistry_kernel_TR_algorithm import optimize_chem, report_chem_kernel_TR, TR_Kernel\n",
    "\n",
    "amount_of_iters = 10\n",
    "kernel_name = 'mat2'\n",
    "gamma_list = [1.5]\n",
    "\n",
    "TR_parameters = {'radius': 0.1, 'sub_tolerance': 1e-3, 'max_iterations': 20, 'max_iterations_subproblem': 100, \n",
    "                'max_iterations_armijo': 100, 'initial_step_armijo': 0.75, \n",
    "                'armijo_alpha': 1e-4, 'FOC_tolerance': 1e-8, 'J_tolerance': 1e-16,\n",
    "                'beta_1': 0.5, 'beta_2': 0.95, 'rho': 0.9, 'kernel_width': 1.5, 'advanced': True}\n",
    "\n",
    "\n",
    "data = optimize_chem(TR_Kernel, kernel_name, gamma_list, TR_parameters, amount_of_iters)\n",
    "\n"
   ]
  },
  {
   "cell_type": "markdown",
   "metadata": {},
   "source": [
    "We need to specify the kernel_name (same options as in the 2D example available), the list of gammas, the TR_parameters and the amount of itertions (we used 10).\n",
    "\n",
    "To view the results, use "
   ]
  },
  {
   "cell_type": "code",
   "execution_count": null,
   "metadata": {},
   "outputs": [],
   "source": [
    "report_chem_kernel_TR(data, gamma_list, amount_of_iters):"
   ]
  }
 ],
 "metadata": {
  "language_info": {
   "name": "python"
  },
  "orig_nbformat": 4
 },
 "nbformat": 4,
 "nbformat_minor": 2
}
